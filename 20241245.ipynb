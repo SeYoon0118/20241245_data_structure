{
 "cells": [
  {
   "cell_type": "markdown",
   "id": "38bd0f49-3d50-4451-beea-799aeddc0aea",
   "metadata": {},
   "source": [
    "# AI융합학부 20241245 이세윤\n",
    "# LeetCode225.Implement Stack using Queue\n",
    "## 풀이:q1,q2 생성, push()는 q1에 일반적인 방식으로 append한다. pop할때는 q1의 원소를 한 개만 남기고 q2으로 옮기고 q1에 남아있는 원소를 반환한다. 그리고 q1,q2를 swap하여 가장 최근에 들어온 원소가 삭제된 스택을 구현한다. top()도 pop()과 마찬가지로 마지막에 들어온 원소 한개가 남을 때까지 q1에서 q2로 옮기로 q1에 남아있는 원소를 반환한다. 그리고 q1에 하나 남은 원소(top)도 q2로 옮기고 swap한다.(top()은 맨 위의 원소를 반환할 뿐 삭제하지 않기 때문에 원 상태 유지)"
   ]
  },
  {
   "cell_type": "code",
   "execution_count": 9,
   "id": "0cf8808c-36e7-4c2d-aaca-392cba1f27ff",
   "metadata": {},
   "outputs": [
    {
     "name": "stdout",
     "output_type": "stream",
     "text": [
      "3\n",
      "3\n",
      "<__main__.MyStack object at 0x0000026A7A2310D0>\n",
      "False\n"
     ]
    }
   ],
   "source": [
    "class ListQueue:\n",
    "    def __init__(self):\n",
    "        self.__queue=[]\n",
    "    def enqueue(self,x):\n",
    "        return self.__queue.append(x)\n",
    "    def dequeue(self):\n",
    "        return self.__queue.pop(0)\n",
    "    def front(self):\n",
    "        return self.__queue[0]\n",
    "    def isEmpty(self)->bool:\n",
    "        return len(self.__queue)==0\n",
    "    def dequeueAll(self):\n",
    "        self.__queue.clear()\n",
    "    def __len__(self):\n",
    "        return len(self.__queue)\n",
    "\n",
    "class MyStack:\n",
    "    def __init__(self):\n",
    "        self.q1 = ListQueue()\n",
    "        self.q2 = ListQueue()\n",
    "\n",
    "    def push(self, x: int) -> None:\n",
    "        self.q1.enqueue(x)\n",
    "\n",
    "    def pop(self) -> int:\n",
    "        while len(self.q1)> 1:\n",
    "            self.q2.enqueue(self.q1.dequeue())\n",
    "        top = self.q1.dequeue()\n",
    "        self.q1, self.q2 = self.q2, self.q1\n",
    "        return top\n",
    "\n",
    "    def top(self) -> int:\n",
    "        while len(self.q1) > 1:\n",
    "            self.q2.enqueue(self.q1.dequeue())\n",
    "        top = self.q1.dequeue()\n",
    "        self.q2.enqueue(top)\n",
    "        self.q1, self.q2 = self.q2, self.q1\n",
    "        return top\n",
    "\n",
    "    def empty(self) -> bool:\n",
    "        return self.q1.isEmpty()\n",
    "\n",
    "'''      \n",
    "s = MyStack()\n",
    "s.push(1)\n",
    "s.push(2)\n",
    "s.push(3)\n",
    "print(s.top())    \n",
    "print(s.pop())\n",
    "print(s)\n",
    "print(s.empty())  \n",
    "'''"
   ]
  },
  {
   "cell_type": "markdown",
   "id": "309ee2e6-883c-4335-ab92-7fce8d85f369",
   "metadata": {},
   "source": [
    "# LeetCode232.Implement Queue using Stack\n",
    "## 풀이:s1,s2 생성, push()는 s1.appenf()/ pop(), peek()은 s1의 원소를 모두 s2로 옮기고, 옮기면서 가장 나중에 들어온 요소(큐에서 맨 처음 들어온 요소) 즉 인덱스 -1번 원소를 반환한다."
   ]
  },
  {
   "cell_type": "code",
   "execution_count": 10,
   "id": "90ee09e5-0535-46c1-a6c5-948ad9f05a78",
   "metadata": {},
   "outputs": [
    {
     "name": "stdout",
     "output_type": "stream",
     "text": [
      "1\n",
      "1\n",
      "False\n"
     ]
    }
   ],
   "source": [
    "class ListStack:\n",
    "    def __init__(self):\n",
    "        self.__stack = []\n",
    "\n",
    "    def push(self, x):\n",
    "        self.__stack.append(x)\n",
    "\n",
    "    def pop(self):\n",
    "        return self.__stack.pop()\n",
    "\n",
    "    def top(self):\n",
    "        if self.isEmpty():\n",
    "            return None\n",
    "        else:\n",
    "            return self.__stack[-1]\n",
    "\n",
    "    def isEmpty(self) -> bool:\n",
    "        return not bool(self.__stack)\n",
    "\n",
    "    def popAll(self):\n",
    "        self.__stack.clear()\n",
    "\n",
    "    def printStack(self):\n",
    "        print(\"Stack from top:\", end=' ')\n",
    "        for i in range(len(self.__stack) - 1, -1, -1):\n",
    "            print(self.__stack[i], end=' ')\n",
    "        print()\n",
    "\n",
    "class MyQueue:\n",
    "    def __init__(self):\n",
    "        self.s1 = ListStack()\n",
    "        self.s2 = ListStack()\n",
    "\n",
    "    def push(self, x: int) -> None:\n",
    "        self.s1.push(x)\n",
    "\n",
    "    def pop(self) -> int:\n",
    "        if self.s2.isEmpty():\n",
    "            while not self.s1.isEmpty():\n",
    "                self.s2.push(self.s1.pop())\n",
    "        return self.s2.pop()\n",
    "\n",
    "    def peek(self) -> int:\n",
    "        if self.s2.isEmpty():\n",
    "            while not self.s1.isEmpty():\n",
    "                self.s2.push(self.s1.pop())\n",
    "        return self.s2.top()\n",
    "\n",
    "    def empty(self) -> bool:\n",
    "        return self.s1.isEmpty() and self.s2.isEmpty()\n",
    "'''\n",
    "q = MyQueue()\n",
    "q.push(1)\n",
    "q.push(2)\n",
    "print(q.peek())    \n",
    "print(q.pop())     \n",
    "print(q.empty())   \n",
    "'''"
   ]
  },
  {
   "cell_type": "markdown",
   "id": "d523f182-9643-4807-b907-68671a848f16",
   "metadata": {},
   "source": [
    "# 연습문제 1\n",
    "## 풀이:front를 인덱스 -1, tail을 인덱스 0으로 간주"
   ]
  },
  {
   "cell_type": "code",
   "execution_count": 15,
   "id": "76438bbf-1484-4dcd-a534-caccbefde7e8",
   "metadata": {},
   "outputs": [
    {
     "name": "stdout",
     "output_type": "stream",
     "text": [
      "['d', 'c', 'b', 'a']\n",
      "['d', 'c', 'b']\n",
      "[]\n"
     ]
    }
   ],
   "source": [
    "\n",
    "class reverseListQueue:\n",
    "    def __init__(self):\n",
    "        self.__queue=[]\n",
    "    def enqueue(self,x):\n",
    "        return self.__queue.insert(0,x)\n",
    "    def dequeue(self):\n",
    "        return self.__queue.pop(-1)\n",
    "    def front(self):\n",
    "        return self.__queue[-1]\n",
    "    def isEmpty(self)->bool:\n",
    "        return len(self.__queue)==0\n",
    "    def dequeueAll(self):\n",
    "        self.__queue.clear()\n",
    "'''\n",
    "q=reverseListQueue()       \n",
    "q.enqueue(\"a\")\n",
    "q.enqueue(\"b\")\n",
    "q.enqueue(\"c\")\n",
    "q.enqueue(\"d\")\n",
    "print(q._reverseListQueue__queue)\n",
    "q.dequeue()\n",
    "print(q._reverseListQueue__queue)\n",
    "q.front()\n",
    "q.dequeueAll()\n",
    "print(q._reverseListQueue__queue)\n",
    "'''        "
   ]
  },
  {
   "cell_type": "markdown",
   "id": "70981aa6-a818-407a-8029-68480c27942c",
   "metadata": {},
   "source": [
    "# 연습문제2\n",
    "## 풀이:$기준으로 left, right 리스트로 만들고 left를 큐에 넣고 삭제하면서 right와 비교"
   ]
  },
  {
   "cell_type": "code",
   "execution_count": null,
   "id": "2a43f9eb-96fd-4c60-8986-2928499c801d",
   "metadata": {},
   "outputs": [],
   "source": [
    "class ListQueue:\n",
    "    def __init__(self):\n",
    "        self.__queue=[]\n",
    "    def enqueue(self,x):\n",
    "        return self.__queue.append(x)\n",
    "    def dequeue(self):\n",
    "        return self.__queue.pop(0)\n",
    "    def front(self):\n",
    "        return self.__queue[0]\n",
    "    def isEmpty(self)->bool:\n",
    "        return len(self.__queue)==0\n",
    "    def dequeueAll(self):\n",
    "        self.__queue.clear()\n",
    "str = input(\"w$w 형식의 문자열을 입력하시오($는 구분기준):\")\n",
    "\n",
    "if \"$\" not in str:\n",
    "    print(\"w$w 형식으로 다시 입력:\")\n",
    "else:\n",
    "    strQueue = ListQueue()\n",
    "    a = str.index(\"$\")\n",
    "    left = str[:a]\n",
    "    right = str[a+1:]\n",
    "    \n",
    "    for w in left:\n",
    "        strQueue.enqueue(w)\n",
    "\n",
    "    is_match = True\n",
    "    for w in right:\n",
    "        if strQueue.isEmpty() or w != strQueue.dequeue():\n",
    "            is_match = False\n",
    "            break\n",
    "    \n",
    "    if is_match and strQueue.isEmpty(): \n",
    "        print(\"True (w$w형식이다)\")\n",
    "    else:\n",
    "        print(\"False (w$w형식이 아니다)\")\n"
   ]
  },
  {
   "cell_type": "markdown",
   "id": "fdbfede2-36d0-40c2-be89-370e4bc190df",
   "metadata": {},
   "source": [
    "# 연습문제3\n",
    "## 풀이:a와 b, 임시저장소 temp를 만들어서 a를 pop하면서 temp와 b에 복사, temp의 요소를 다시 반환하며 a에 복사"
   ]
  },
  {
   "cell_type": "code",
   "execution_count": null,
   "id": "ce827bc4-23b5-419a-8cd3-5b95d7a72789",
   "metadata": {},
   "outputs": [],
   "source": [
    "'''\n",
    "from circular_linked_list import CircularLinkedList\n",
    "class LinkedQueue:\n",
    "     def __init__(self):\n",
    "        self.__queue=CircularLinkedList()\n",
    "    def enqueue(self,x):\n",
    "        return self.__queue.append(x)\n",
    "    def dequeue(self):\n",
    "        return self.__queue.pop(0)\n",
    "    def front(self):\n",
    "        return self.__queue.get(0)\n",
    "    def isEmpty(self)->bool:\n",
    "        return len(self.__queue)==0\n",
    "    def dequeueAll(self):\n",
    "        self.__queue.clear()\n",
    "'''\n",
    "\n",
    "def copy_linked_queue(a):\n",
    "    b = LinkedQueue()\n",
    "    temp = LinkedQueue()\n",
    "\n",
    "    while not a.isEmpty():\n",
    "        i = a.dequeue()\n",
    "        b.enqueue(i)\n",
    "        temp.enqueue(i)\n",
    "    \n",
    "    while not temp.isEmpty():\n",
    "        a.enqueue(temp.dequeue())\n",
    "\n",
    "    return b\n"
   ]
  },
  {
   "cell_type": "markdown",
   "id": "3b5fb040-a173-4309-9898-5b97bd1ddf6c",
   "metadata": {},
   "source": [
    "# 연습문제 4\n",
    "## 풀이:Leetcode 225번 문제와 풀이 동일"
   ]
  },
  {
   "cell_type": "code",
   "execution_count": null,
   "id": "94f36777-fb50-44b6-82e7-2748c112e62e",
   "metadata": {},
   "outputs": [],
   "source": [
    "class MyStack:\n",
    "    def __init__(self):\n",
    "        self.q1 = ListQueue()\n",
    "        self.q2 = ListQueue()\n",
    "\n",
    "    def push(self, x: int) -> None:\n",
    "        self.q1.enqueue(x)\n",
    "\n",
    "    def pop(self) -> int:\n",
    "        while len(self.q1)> 1:\n",
    "            self.q2.enqueue(self.q1.dequeue())\n",
    "        top = self.q1.dequeue()\n",
    "        self.q1, self.q2 = self.q2, self.q1\n",
    "        return top"
   ]
  },
  {
   "cell_type": "markdown",
   "id": "3c02ae69-8de9-4ef4-8dc4-7ddccf31d16f",
   "metadata": {},
   "source": [
    "# 연습문제 5\n",
    "## 풀이:LeetCode 232문제와 풀이 동일"
   ]
  },
  {
   "cell_type": "code",
   "execution_count": 12,
   "id": "3dbaccfc-33e8-4c55-b6ff-3080ffc5db85",
   "metadata": {},
   "outputs": [
    {
     "ename": "IndentationError",
     "evalue": "unindent does not match any outer indentation level (<string>, line 4)",
     "output_type": "error",
     "traceback": [
      "\u001b[1;36m  File \u001b[1;32m<string>:4\u001b[1;36m\u001b[0m\n\u001b[1;33m    def pop(self) -> int:\u001b[0m\n\u001b[1;37m                         ^\u001b[0m\n\u001b[1;31mIndentationError\u001b[0m\u001b[1;31m:\u001b[0m unindent does not match any outer indentation level\n"
     ]
    }
   ],
   "source": [
    "class MyQueue:\n",
    "    def __init__(self):\n",
    "        self.s1 = ListStack()\n",
    "        self.s2 = ListStack()\n",
    "        \n",
    "    def enqueue(self, x: int) -> None:\n",
    "        self.s1.push(x)\n",
    "\n",
    "    def dequeue(self) -> int:\n",
    "        if self.s2.isEmpty():\n",
    "            while not self.s1.isEmpty():\n",
    "                self.s2.push(self.s1.pop())\n",
    "        return self.s2.pop()"
   ]
  },
  {
   "cell_type": "markdown",
   "id": "14d7a5a4-5f70-490a-ab51-0163a105958d",
   "metadata": {},
   "source": [
    "# 연습문제 6\n",
    "## 풀이: enqueue(),dequeue() 모두 상수 시간이므로 O(1)이다"
   ]
  },
  {
   "cell_type": "markdown",
   "id": "b73ee9a3-2d44-4343-8fb3-e7913cef243b",
   "metadata": {},
   "source": [
    "# 연습문제 7\n",
    "## 풀이:enqueue=append(self,newItem)는 마지막 노드에 삽입하기 위해 노드를 끝까지 순화해야하므로 O(n), dequeue=pop(self,i)는 맨앞노드가 더미헤드 노드이기 때문에 반복문 없이 바로 처리, 따라서 O(1)"
   ]
  },
  {
   "cell_type": "markdown",
   "id": "f8cc68cf-5437-43d8-bd64-bc2c55f2d846",
   "metadata": {},
   "source": [
    "# 연습문제 8\n",
    "## 풀이:앞에 추가하는 addFront(insert(0,i)), 뒤에 추가하는 addRear(append()), 앞을 삭제하는 deleteFront(pop()), 뒤를 삭제하는 deleteRear(pop()) 메서드 가가"
   ]
  },
  {
   "cell_type": "code",
   "execution_count": null,
   "id": "1b450b47-c5c7-4dd6-b7df-e50d70b76cd3",
   "metadata": {},
   "outputs": [],
   "source": [
    "class Deque:\n",
    "    def __init__(self):\n",
    "        self.__deque = []\n",
    "        \n",
    "    def addFront(self, x):\n",
    "        self.__deque.insert(0, x)  \n",
    "\n",
    "    def addRear(self, x):\n",
    "        self.__deque.append(x)    \n",
    "\n",
    "    def deleteFront(self):\n",
    "        if self.isEmpty():\n",
    "            raise IndexError(\"Deque is empty\")\n",
    "        return self.__deque.pop(0) \n",
    "\n",
    "    def deleteRear(self):\n",
    "        if self.isEmpty():\n",
    "            raise IndexError(\"Deque is empty\")\n",
    "        return self.__deque.pop()\n",
    "\n",
    "    def front(self):\n",
    "        return self.__deque[0]\n",
    "\n",
    "    def rear(self):\n",
    "        return self.__deque[-1]\n",
    "        \n",
    "    def isEmpty(self) -> bool:\n",
    "        return len(self.__deque) == 0\n",
    "        \n",
    "    def clear(self):\n",
    "        self.__deque.clear()\n",
    "\n",
    "    def printDeque(self):\n",
    "        print(\"Deque from front:\", end=' ')\n",
    "        for i in range(len(self.__deque)):\n",
    "            print(self.__deque[i], end=' ')\n",
    "        print()\n"
   ]
  }
 ],
 "metadata": {
  "kernelspec": {
   "display_name": "Python 3 (ipykernel)",
   "language": "python",
   "name": "python3"
  },
  "language_info": {
   "codemirror_mode": {
    "name": "ipython",
    "version": 3
   },
   "file_extension": ".py",
   "mimetype": "text/x-python",
   "name": "python",
   "nbconvert_exporter": "python",
   "pygments_lexer": "ipython3",
   "version": "3.12.7"
  }
 },
 "nbformat": 4,
 "nbformat_minor": 5
}
