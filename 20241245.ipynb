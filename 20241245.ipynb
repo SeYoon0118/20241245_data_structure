{
 "cells": [
  {
   "cell_type": "markdown",
   "id": "38bd0f49-3d50-4451-beea-799aeddc0aea",
   "metadata": {},
   "source": [
    "# AI융합학부 20241245 이세윤_Assignment4\n",
    "# LeetCode225.Implement Stack using Queue\n",
    "## 풀이:q1,q2 생성, push()는 q1에 일반적인 방식으로 append한다. pop할때는 q1의 원소를 한 개만 남기고 q2으로 옮기고 q1에 남아있는 원소를 반환한다. 그리고 q1,q2를 swap하여 가장 최근에 들어온 원소가 삭제된 스택을 구현한다. top()도 pop()과 마찬가지로 마지막에 들어온 원소 한개가 남을 때까지 q1에서 q2로 옮기로 q1에 남아있는 원소를 반환한다. 그리고 q1에 하나 남은 원소(top)도 q2로 옮기고 swap한다.(top()은 맨 위의 원소를 반환할 뿐 삭제하지 않기 때문에 원 상태 유지)"
   ]
  },
  {
   "cell_type": "code",
   "execution_count": 9,
   "id": "0cf8808c-36e7-4c2d-aaca-392cba1f27ff",
   "metadata": {},
   "outputs": [
    {
     "name": "stdout",
     "output_type": "stream",
     "text": [
      "3\n",
      "3\n",
      "<__main__.MyStack object at 0x0000026A7A2310D0>\n",
      "False\n"
     ]
    }
   ],
   "source": [
    "class ListQueue:\n",
    "    def __init__(self):\n",
    "        self.__queue=[]\n",
    "    def enqueue(self,x):\n",
    "        return self.__queue.append(x)\n",
    "    def dequeue(self):\n",
    "        return self.__queue.pop(0)\n",
    "    def front(self):\n",
    "        return self.__queue[0]\n",
    "    def isEmpty(self)->bool:\n",
    "        return len(self.__queue)==0\n",
    "    def dequeueAll(self):\n",
    "        self.__queue.clear()\n",
    "    def __len__(self):\n",
    "        return len(self.__queue)\n",
    "\n",
    "class MyStack:\n",
    "    def __init__(self):\n",
    "        self.q1 = ListQueue()\n",
    "        self.q2 = ListQueue()\n",
    "\n",
    "    def push(self, x: int) -> None:\n",
    "        self.q1.enqueue(x)\n",
    "\n",
    "    def pop(self) -> int:\n",
    "        while len(self.q1)> 1:\n",
    "            self.q2.enqueue(self.q1.dequeue())\n",
    "        top = self.q1.dequeue()\n",
    "        self.q1, self.q2 = self.q2, self.q1\n",
    "        return top\n",
    "\n",
    "    def top(self) -> int:\n",
    "        while len(self.q1) > 1:\n",
    "            self.q2.enqueue(self.q1.dequeue())\n",
    "        top = self.q1.dequeue()\n",
    "        self.q2.enqueue(top)\n",
    "        self.q1, self.q2 = self.q2, self.q1\n",
    "        return top\n",
    "\n",
    "    def empty(self) -> bool:\n",
    "        return self.q1.isEmpty()\n",
    "\n",
    "'''      \n",
    "s = MyStack()\n",
    "s.push(1)\n",
    "s.push(2)\n",
    "s.push(3)\n",
    "print(s.top())    \n",
    "print(s.pop())\n",
    "print(s)\n",
    "print(s.empty())  \n",
    "'''"
   ]
  },
  {
   "cell_type": "markdown",
   "id": "309ee2e6-883c-4335-ab92-7fce8d85f369",
   "metadata": {},
   "source": [
    "# LeetCode232.Implement Queue using Stack\n",
    "## 풀이:s1,s2 생성, push()는 s1.appenf()/ pop(), peek()은 s1의 원소를 모두 s2로 옮기고, 옮기면서 가장 나중에 들어온 요소(큐에서 맨 처음 들어온 요소) 즉 인덱스 -1번 원소를 반환한다."
   ]
  },
  {
   "cell_type": "code",
   "execution_count": 10,
   "id": "90ee09e5-0535-46c1-a6c5-948ad9f05a78",
   "metadata": {},
   "outputs": [
    {
     "name": "stdout",
     "output_type": "stream",
     "text": [
      "1\n",
      "1\n",
      "False\n"
     ]
    }
   ],
   "source": [
    "class ListStack:\n",
    "    def __init__(self):\n",
    "        self.__stack = []\n",
    "\n",
    "    def push(self, x):\n",
    "        self.__stack.append(x)\n",
    "\n",
    "    def pop(self):\n",
    "        return self.__stack.pop()\n",
    "\n",
    "    def top(self):\n",
    "        if self.isEmpty():\n",
    "            return None\n",
    "        else:\n",
    "            return self.__stack[-1]\n",
    "\n",
    "    def isEmpty(self) -> bool:\n",
    "        return not bool(self.__stack)\n",
    "\n",
    "    def popAll(self):\n",
    "        self.__stack.clear()\n",
    "\n",
    "    def printStack(self):\n",
    "        print(\"Stack from top:\", end=' ')\n",
    "        for i in range(len(self.__stack) - 1, -1, -1):\n",
    "            print(self.__stack[i], end=' ')\n",
    "        print()\n",
    "\n",
    "class MyQueue:\n",
    "    def __init__(self):\n",
    "        self.s1 = ListStack()\n",
    "        self.s2 = ListStack()\n",
    "\n",
    "    def push(self, x: int) -> None:\n",
    "        self.s1.push(x)\n",
    "\n",
    "    def pop(self) -> int:\n",
    "        if self.s2.isEmpty():\n",
    "            while not self.s1.isEmpty():\n",
    "                self.s2.push(self.s1.pop())\n",
    "        return self.s2.pop()\n",
    "\n",
    "    def peek(self) -> int:\n",
    "        if self.s2.isEmpty():\n",
    "            while not self.s1.isEmpty():\n",
    "                self.s2.push(self.s1.pop())\n",
    "        return self.s2.top()\n",
    "\n",
    "    def empty(self) -> bool:\n",
    "        return self.s1.isEmpty() and self.s2.isEmpty()\n",
    "'''\n",
    "q = MyQueue()\n",
    "q.push(1)\n",
    "q.push(2)\n",
    "print(q.peek())    \n",
    "print(q.pop())     \n",
    "print(q.empty())   \n",
    "'''"
   ]
  },
  {
   "cell_type": "markdown",
   "id": "d523f182-9643-4807-b907-68671a848f16",
   "metadata": {},
   "source": [
    "# 연습문제 1\n",
    "## 풀이:front를 인덱스 -1, tail을 인덱스 0으로 간주"
   ]
  },
  {
   "cell_type": "code",
   "execution_count": 15,
   "id": "76438bbf-1484-4dcd-a534-caccbefde7e8",
   "metadata": {},
   "outputs": [
    {
     "name": "stdout",
     "output_type": "stream",
     "text": [
      "['d', 'c', 'b', 'a']\n",
      "['d', 'c', 'b']\n",
      "[]\n"
     ]
    }
   ],
   "source": [
    "\n",
    "class reverseListQueue:\n",
    "    def __init__(self):\n",
    "        self.__queue=[]\n",
    "    def enqueue(self,x):\n",
    "        return self.__queue.insert(0,x)\n",
    "    def dequeue(self):\n",
    "        return self.__queue.pop(-1)\n",
    "    def front(self):\n",
    "        return self.__queue[-1]\n",
    "    def isEmpty(self)->bool:\n",
    "        return len(self.__queue)==0\n",
    "    def dequeueAll(self):\n",
    "        self.__queue.clear()\n",
    "'''\n",
    "q=reverseListQueue()       \n",
    "q.enqueue(\"a\")\n",
    "q.enqueue(\"b\")\n",
    "q.enqueue(\"c\")\n",
    "q.enqueue(\"d\")\n",
    "print(q._reverseListQueue__queue)\n",
    "q.dequeue()\n",
    "print(q._reverseListQueue__queue)\n",
    "q.front()\n",
    "q.dequeueAll()\n",
    "print(q._reverseListQueue__queue)\n",
    "'''        "
   ]
  },
  {
   "cell_type": "markdown",
   "id": "70981aa6-a818-407a-8029-68480c27942c",
   "metadata": {},
   "source": [
    "# 연습문제2\n",
    "## 풀이:$기준으로 left, right 리스트로 만들고 left를 큐에 넣고 삭제하면서 right와 비교"
   ]
  },
  {
   "cell_type": "code",
   "execution_count": null,
   "id": "2a43f9eb-96fd-4c60-8986-2928499c801d",
   "metadata": {},
   "outputs": [],
   "source": [
    "class ListQueue:\n",
    "    def __init__(self):\n",
    "        self.__queue=[]\n",
    "    def enqueue(self,x):\n",
    "        return self.__queue.append(x)\n",
    "    def dequeue(self):\n",
    "        return self.__queue.pop(0)\n",
    "    def front(self):\n",
    "        return self.__queue[0]\n",
    "    def isEmpty(self)->bool:\n",
    "        return len(self.__queue)==0\n",
    "    def dequeueAll(self):\n",
    "        self.__queue.clear()\n",
    "str = input(\"w$w 형식의 문자열을 입력하시오($는 구분기준):\")\n",
    "\n",
    "if \"$\" not in str:\n",
    "    print(\"w$w 형식으로 다시 입력:\")\n",
    "else:\n",
    "    strQueue = ListQueue()\n",
    "    a = str.index(\"$\")\n",
    "    left = str[:a]\n",
    "    right = str[a+1:]\n",
    "    \n",
    "    for w in left:\n",
    "        strQueue.enqueue(w)\n",
    "\n",
    "    is_match = True\n",
    "    for w in right:\n",
    "        if strQueue.isEmpty() or w != strQueue.dequeue():\n",
    "            is_match = False\n",
    "            break\n",
    "    \n",
    "    if is_match and strQueue.isEmpty(): \n",
    "        print(\"True (w$w형식이다)\")\n",
    "    else:\n",
    "        print(\"False (w$w형식이 아니다)\")\n"
   ]
  },
  {
   "cell_type": "markdown",
   "id": "fdbfede2-36d0-40c2-be89-370e4bc190df",
   "metadata": {},
   "source": [
    "# 연습문제3\n",
    "## 풀이:a와 b, 임시저장소 temp를 만들어서 a를 pop하면서 temp와 b에 복사, temp의 요소를 다시 반환하며 a에 복사"
   ]
  },
  {
   "cell_type": "code",
   "execution_count": null,
   "id": "ce827bc4-23b5-419a-8cd3-5b95d7a72789",
   "metadata": {},
   "outputs": [],
   "source": [
    "'''\n",
    "from circular_linked_list import CircularLinkedList\n",
    "class LinkedQueue:\n",
    "     def __init__(self):\n",
    "        self.__queue=CircularLinkedList()\n",
    "    def enqueue(self,x):\n",
    "        return self.__queue.append(x)\n",
    "    def dequeue(self):\n",
    "        return self.__queue.pop(0)\n",
    "    def front(self):\n",
    "        return self.__queue.get(0)\n",
    "    def isEmpty(self)->bool:\n",
    "        return len(self.__queue)==0\n",
    "    def dequeueAll(self):\n",
    "        self.__queue.clear()\n",
    "'''\n",
    "\n",
    "def copy_linked_queue(a):\n",
    "    b = LinkedQueue()\n",
    "    temp = LinkedQueue()\n",
    "\n",
    "    while not a.isEmpty():\n",
    "        i = a.dequeue()\n",
    "        b.enqueue(i)\n",
    "        temp.enqueue(i)\n",
    "    \n",
    "    while not temp.isEmpty():\n",
    "        a.enqueue(temp.dequeue())\n",
    "\n",
    "    return b\n"
   ]
  },
  {
   "cell_type": "markdown",
   "id": "3b5fb040-a173-4309-9898-5b97bd1ddf6c",
   "metadata": {},
   "source": [
    "# 연습문제 4\n",
    "## 풀이:Leetcode 225번 문제와 풀이 동일"
   ]
  },
  {
   "cell_type": "code",
   "execution_count": null,
   "id": "94f36777-fb50-44b6-82e7-2748c112e62e",
   "metadata": {},
   "outputs": [],
   "source": [
    "class MyStack:\n",
    "    def __init__(self):\n",
    "        self.q1 = ListQueue()\n",
    "        self.q2 = ListQueue()\n",
    "\n",
    "    def push(self, x: int) -> None:\n",
    "        self.q1.enqueue(x)\n",
    "\n",
    "    def pop(self) -> int:\n",
    "        while len(self.q1)> 1:\n",
    "            self.q2.enqueue(self.q1.dequeue())\n",
    "        top = self.q1.dequeue()\n",
    "        self.q1, self.q2 = self.q2, self.q1\n",
    "        return top"
   ]
  },
  {
   "cell_type": "markdown",
   "id": "3c02ae69-8de9-4ef4-8dc4-7ddccf31d16f",
   "metadata": {},
   "source": [
    "# 연습문제 5\n",
    "## 풀이:LeetCode 232문제와 풀이 동일"
   ]
  },
  {
   "cell_type": "code",
   "execution_count": 12,
   "id": "3dbaccfc-33e8-4c55-b6ff-3080ffc5db85",
   "metadata": {},
   "outputs": [
    {
     "ename": "IndentationError",
     "evalue": "unindent does not match any outer indentation level (<string>, line 4)",
     "output_type": "error",
     "traceback": [
      "\u001b[1;36m  File \u001b[1;32m<string>:4\u001b[1;36m\u001b[0m\n\u001b[1;33m    def pop(self) -> int:\u001b[0m\n\u001b[1;37m                         ^\u001b[0m\n\u001b[1;31mIndentationError\u001b[0m\u001b[1;31m:\u001b[0m unindent does not match any outer indentation level\n"
     ]
    }
   ],
   "source": [
    "class MyQueue:\n",
    "    def __init__(self):\n",
    "        self.s1 = ListStack()\n",
    "        self.s2 = ListStack()\n",
    "        \n",
    "    def enqueue(self, x: int) -> None:\n",
    "        self.s1.push(x)\n",
    "\n",
    "    def dequeue(self) -> int:\n",
    "        if self.s2.isEmpty():\n",
    "            while not self.s1.isEmpty():\n",
    "                self.s2.push(self.s1.pop())\n",
    "        return self.s2.pop()"
   ]
  },
  {
   "cell_type": "markdown",
   "id": "14d7a5a4-5f70-490a-ab51-0163a105958d",
   "metadata": {},
   "source": [
    "# 연습문제 6\n",
    "## 풀이: enqueue(),dequeue() 모두 상수 시간이므로 O(1)이다"
   ]
  },
  {
   "cell_type": "markdown",
   "id": "b73ee9a3-2d44-4343-8fb3-e7913cef243b",
   "metadata": {},
   "source": [
    "# 연습문제 7\n",
    "## 풀이:enqueue=append(self,newItem)는 마지막 노드에 삽입하기 위해 노드를 끝까지 순화해야하므로 O(n), dequeue=pop(self,i)는 맨앞노드가 더미헤드 노드이기 때문에 반복문 없이 바로 처리, 따라서 O(1)"
   ]
  },
  {
   "cell_type": "markdown",
   "id": "f8cc68cf-5437-43d8-bd64-bc2c55f2d846",
   "metadata": {},
   "source": [
    "# 연습문제 8\n",
    "## 풀이:앞에 추가하는 addFront(insert(0,i)), 뒤에 추가하는 addRear(append()), 앞을 삭제하는 deleteFront(pop()), 뒤를 삭제하는 deleteRear(pop()) 메서드 가가"
   ]
  },
  {
   "cell_type": "code",
   "execution_count": null,
   "id": "1b450b47-c5c7-4dd6-b7df-e50d70b76cd3",
   "metadata": {},
   "outputs": [],
   "source": [
    "class Deque:\n",
    "    def __init__(self):\n",
    "        self.__deque = []\n",
    "        \n",
    "    def addFront(self, x):\n",
    "        self.__deque.insert(0, x)  \n",
    "\n",
    "    def addRear(self, x):\n",
    "        self.__deque.append(x)    \n",
    "\n",
    "    def deleteFront(self):\n",
    "        if self.isEmpty():\n",
    "            raise IndexError(\"Deque is empty\")\n",
    "        return self.__deque.pop(0) \n",
    "\n",
    "    def deleteRear(self):\n",
    "        if self.isEmpty():\n",
    "            raise IndexError(\"Deque is empty\")\n",
    "        return self.__deque.pop()\n",
    "\n",
    "    def front(self):\n",
    "        return self.__deque[0]\n",
    "\n",
    "    def rear(self):\n",
    "        return self.__deque[-1]\n",
    "        \n",
    "    def isEmpty(self) -> bool:\n",
    "        return len(self.__deque) == 0\n",
    "        \n",
    "    def clear(self):\n",
    "        self.__deque.clear()\n",
    "\n",
    "    def printDeque(self):\n",
    "        print(\"Deque from front:\", end=' ')\n",
    "        for i in range(len(self.__deque)):\n",
    "            print(self.__deque[i], end=' ')\n",
    "        print()\n"
   ]
  },
  {
   "cell_type": "markdown",
   "id": "cd903994-4abf-4a71-9236-0d1385ac249f",
   "metadata": {},
   "source": [
    "# 20241245 AI융합학부 이세윤_Assignment5\n",
    "# 3.힙으로 저장한 데이터로 생일 느린 순서로 10명의 친구 출력\n",
    "### 생일데이터.csv파일을 불러와서 buildHeap()하여 우선순위 힙을 만들고 deleteMax로 루트노드를 반환, 삭제"
   ]
  },
  {
   "cell_type": "code",
   "execution_count": 33,
   "id": "ed7d896b-2d88-4b6b-809c-582622120d3e",
   "metadata": {},
   "outputs": [
    {
     "name": "stdout",
     "output_type": "stream",
     "text": [
      "[홍서연: 20241282, 신수민: 20051230, 이서영: 20051225, 강민주: 20051214, 김민경: 20051202, 이서영: 20051112, 배시은: 20051102, 김여원: 20051031, 이서진: 20051028, 서홍빈: 20051024]\n"
     ]
    },
    {
     "name": "stderr",
     "output_type": "stream",
     "text": [
      "C:\\Users\\seyoo\\AppData\\Local\\Temp\\ipykernel_38636\\2642243236.py:28: FutureWarning: Series.__getitem__ treating keys as positions is deprecated. In a future version, integer keys will always be treated as labels (consistent with DataFrame behavior). To access a value by position, use `ser.iloc[pos]`\n",
      "  studentsBdata.append(studentsBirth(row[0],row[1], row[2]))\n"
     ]
    }
   ],
   "source": [
    "# birthday.csv 불러오기\n",
    "import pandas as pd\n",
    "birthday_data=pd.read_csv(r'C:\\Users\\seyoo\\OneDrive\\바탕 화면\\자료구조\\heap\\DS_Birthdaydata - 시트1.csv')\n",
    "#class Heap 불러오기\n",
    "import my_heap\n",
    "\n",
    "# 헤더 제거 후 데이터 정제\n",
    "clean_bd = birthday_data[1:].dropna().reset_index(drop=True)\n",
    "\n",
    "class studentsBirth:\n",
    "    def __init__(self, student_id, name, birthday):\n",
    "        self.student_id = student_id\n",
    "        self.name = name\n",
    "        self.birthday = int(birthday)\n",
    "\n",
    "    def __lt__(self, other): #<\n",
    "        return self.birthday < other.birthday\n",
    "\n",
    "    def __gt__(self, other): #>\n",
    "        return self.birthday > other.birthday\n",
    "\n",
    "    def __repr__(self):\n",
    "        return f\"{self.name}: {self.birthday}\" #이름, 생년월일만 출력\n",
    "\n",
    "#csv파일로 리스트 생성    \n",
    "studentsBdata = []\n",
    "for i, row in clean_bd.iterrows():\n",
    "    studentsBdata.append(studentsBirth(row[0],row[1], row[2]))\n",
    "\n",
    "# buildHeap\n",
    "heap = my_heap.Heap(studentsBdata)\n",
    "heap.buildHeap()\n",
    "\n",
    "# 생일이 가장 늦은 10명 출력\n",
    "top_10 = [heap.deleteMax() for i in range(10)]\n",
    "print(top_10)\n",
    "\n"
   ]
  },
  {
   "cell_type": "markdown",
   "id": "662f1580-b7ed-4ec7-81d6-b40fce5fd3ce",
   "metadata": {},
   "source": [
    "# 4.리스트로 저장한 데이터로 조원(3조)들의 이름과 생일 출력"
   ]
  },
  {
   "cell_type": "code",
   "execution_count": 4,
   "id": "51cbae9f-eed1-4846-885f-cea616554be0",
   "metadata": {},
   "outputs": [
    {
     "name": "stdout",
     "output_type": "stream",
     "text": [
      "김아린: 20031128 성유빈: 20030104 안희랑: 20030926 오하민: 20050509 이세윤: 20040118 정승주: 20020619 정재윤: 20050224 최수안: 20050704 한수진: 20040805 \n"
     ]
    }
   ],
   "source": [
    "#csv 파일 불러오기\n",
    "import pandas as pd\n",
    "birthday_data=pd.read_csv(r'C:\\Users\\seyoo\\OneDrive\\바탕 화면\\자료구조\\heap\\DS_Birthdaydata - 시트1.csv',header=None,names=[\"student_id\", \"name\", \"birthday\"])\n",
    "\n",
    "# 헤더 제거 후 데이터 정제\n",
    "clean_bd = birthday_data[1:].dropna().reset_index(drop=True)\n",
    "\n",
    "#circularDoublyLinkedList 불러오기\n",
    "import circularDoublyLinkedList\n",
    "import bidirectNode\n",
    "# 리스트 생성\n",
    "team_members = [\"이세윤\", \"성유빈\", \"김아린\", \"안희랑\", \"오하민\", \"이하민\", \"정재윤\", \"정승주\", \"최수안\", \"한수진\"]\n",
    "team_birthdays = birthday_data[birthday_data[\"name\"].isin(team_members)].reset_index(drop=True) #조원들로민 리스트 구성\n",
    "\n",
    "#(이름:생일)튜플로 저장\n",
    "team_data=[]\n",
    "for i, row in team_birthdays.iterrows():\n",
    "    team_data.append((row[\"name\"], int(row[\"birthday\"])))\n",
    "\n",
    "# 리스트 생성 및 데이터 삽입\n",
    "team_birth = circularDoublyLinkedList.CircularDoublyLinkedList()\n",
    "for name, birthday in team_data:\n",
    "    team_birth.append(f\"{name}: {birthday}\")\n",
    "#3조 조원 결과 출력\n",
    "team_birth.printList()\n",
    "\n"
   ]
  },
  {
   "cell_type": "markdown",
   "id": "9ee1f8c0-e716-4297-9d01-8d6f70f9b2e1",
   "metadata": {},
   "source": [
    "# 5. 8장 연습문제 풀이"
   ]
  },
  {
   "cell_type": "markdown",
   "id": "4996981e-5399-461a-84eb-38d355cc6a6d",
   "metadata": {},
   "source": [
    "# 연습문제 1.\n",
    "## 풀이:최대 힙은 [부모 값>=자식 값]만 성립하면 되기에 부모, 자식 관계가 아닌 노드에 대해서는 [얕은 원소(더 위에 위치한)값<=깊은 원소(더 아래에 위치한)값]이 성립할 수 있다. 예시:[27,18,2,16,17]"
   ]
  },
  {
   "cell_type": "markdown",
   "id": "b21cb3de-11e3-4d52-9056-b6fd69d612a2",
   "metadata": {},
   "source": [
    "# 연습문제 2.\n",
    "## 풀이:연습문제 1번과 마찬가지로, 최대 힙은 [부모 값>=자식 값]만 성립하면 되기에 어떤 자식 노드의 값이 부모노드의 형제노드의 값보다 더 클 수 있다. 따라서 마지막 원소가 항상 작은 값을 가지는 것은 아니다."
   ]
  },
  {
   "cell_type": "markdown",
   "id": "025a5258-e9d0-4bc5-9bc8-deeb6af4caf8",
   "metadata": {},
   "source": [
    "# 연습문제 3.\n",
    "## 풀이:buildheap()알고리즘에서 루트의 자격으로 스며내리기를 할 지 알아보지 않는 원소는 자식이 없는 \"리프노드\"이다. 리프노드의 개수는 [전체 개수(n)-부모노드 개수]이다. 여기서 부모노드의 개수는 전체개수 n(>=2)을 2로 나눈 값의 몫이다.\n",
    "### 1.n이 짝수일 경우) 부모노드 n/2개 ->리프노드:n/2개\n",
    "### 2.n이 홀수일 경우) 부모노드 n-1/2개->리프노드:n+1/2개"
   ]
  },
  {
   "cell_type": "markdown",
   "id": "2b61fbb5-3c90-4f5f-94e4-c243e67ccdcf",
   "metadata": {},
   "source": [
    "# 연습문제4.\n",
    "## 풀이: 최악의 경우 모든 층의 노드를 비교하기 때문에 높이만큼 시간이 소요. 따라서 세타(log(n))/ 최선의 경우 한번만 비교하고 끝날 수 있기 때문에 세타(1)"
   ]
  },
  {
   "cell_type": "markdown",
   "id": "f169b14c-0742-4272-9e1f-da2b3c702d57",
   "metadata": {},
   "source": [
    "# 연습문제 5.\n",
    "## 풀이:루트 노드를 삭제할 때처럼 스며내리기를 할 필요 없이, 힙의 모든 조건을 충족하는 상태에서 마지막 원소만 삭제하면 되기에 훨씬 간단하다.(시간 복잡도:세타(1))"
   ]
  },
  {
   "cell_type": "markdown",
   "id": "34d2d198-73f0-4d14-a679-2e497da16619",
   "metadata": {},
   "source": [
    "# 연습문제 6.\n",
    "## 풀이: 원래 방식 buildHeap()의 시간 복잡도:세타(n)/스며오르기 방식의 buildHeap()은 노드가 깊어질수록 스며오르기를 log n번 진행해야하기 때문에 (n/2xlog n)+(n/4xlog n-1)+(n/8xlog n-2)+...+(n/2^(n-1)xlog2) 즉 세타(nlog n)만큼의 시간이 소요된다. 따라서 스며내리기 방식의 buildHeap()보다 비효율적이다."
   ]
  },
  {
   "cell_type": "markdown",
   "id": "1f078312-a884-4d04-b044-5c93d64ce614",
   "metadata": {},
   "source": [
    "# 연습문제 7.\n",
    "## 풀이:증가한 노드가 부모 노드보다 커졌을 경우 해당 원소를 부모 원소와 반복적으로 비교하는 스며오르기 방식을 사용해서 힙을 수선해야한다. 각 단계에서 부모와의 비교 및 교환은 최악의 경우 트리의 높이 log n만큼 일이나므로 전체 수행 시간은 O(log n)이다. "
   ]
  },
  {
   "cell_type": "markdown",
   "id": "cb008b0d-8bf4-4b8c-8d4f-333301927b3c",
   "metadata": {},
   "source": [
    "# 6.Leetcode 703.Kth Largest Element in Stream\n",
    "## heapq를 이용하여 최소힙 형성, 원소의 개수를 k개만 유지해가며 heapify(top 원소가 k번째로 큰 수)"
   ]
  },
  {
   "cell_type": "code",
   "execution_count": 6,
   "id": "0f4c2d07-7602-4040-92fc-d4b38f7d2063",
   "metadata": {},
   "outputs": [
    {
     "name": "stdout",
     "output_type": "stream",
     "text": [
      "27\n",
      "29\n",
      "29\n"
     ]
    }
   ],
   "source": [
    "import heapq\n",
    "\n",
    "class KthLargest:\n",
    "    def __init__(self, k: int, nums:[int]):\n",
    "        self.k = k\n",
    "        self.heap = nums\n",
    "        heapq.heapify(self.heap)  #nums를 최소heap으로 변환\n",
    "        while len(self.heap) > k:\n",
    "            heapq.heappop(self.heap) #가장 작은 원소를 삭제하며 원소의 개수를 k개로 유지\n",
    "\n",
    "    def add(self, val: int) -> int:\n",
    "        heapq.heappush(self.heap, val)\n",
    "        if len(self.heap) > self.k:\n",
    "            heapq.heappop(self.heap)\n",
    "        return self.heap[0] #k번째로 큰 원소 반환\n",
    "        \n",
    "kth = KthLargest(4, [27, 32,14,31,22]) #가장 작은 원소 14 삭제되고 [22,27,31,32]힙 구성\n",
    "print(kth.add(29)) #[22,27,29,31,32]->22 삭제,[27,29,31,32]->27반환\n",
    "print(kth.add(29)) #[27,29,29,31,32]->27 삭제,[29,29,31,32]->29반환\n",
    "print(kth.add(23)) #그대로 29 반환\n",
    " "
   ]
  }
 ],
 "metadata": {
  "kernelspec": {
   "display_name": "Python 3 (ipykernel)",
   "language": "python",
   "name": "python3"
  },
  "language_info": {
   "codemirror_mode": {
    "name": "ipython",
    "version": 3
   },
   "file_extension": ".py",
   "mimetype": "text/x-python",
   "name": "python",
   "nbconvert_exporter": "python",
   "pygments_lexer": "ipython3",
   "version": "3.12.7"
  }
 },
 "nbformat": 4,
 "nbformat_minor": 5
}
